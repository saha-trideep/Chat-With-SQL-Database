{
 "cells": [
  {
   "cell_type": "markdown",
   "metadata": {},
   "source": [
    "\n",
    "# NoteBook Summary:\n",
    "- Established connection to MySQL database.\n",
    "- Created a new database.\n",
    "- Created a table named \"Jobs_and_Salaries_in_Data_field_2024\" within \"jobs_in_data\" to store CSV data.\n",
    "- Inserted data from CSV file into \"Jobs_and_Salaries_in_Data_field_2024\" table.\n",
    "- Confirmed successful data insertion.\n",
    "\n"
   ]
  },
  {
   "cell_type": "code",
   "execution_count": null,
   "metadata": {},
   "outputs": [],
   "source": [
    "%pip install mysql-connector-python\n",
    "%pip install python-dotenv\n",
    "%pip install pandas"
   ]
  },
  {
   "cell_type": "code",
   "execution_count": 5,
   "metadata": {},
   "outputs": [],
   "source": [
    "import os\n",
    "import mysql.connector\n",
    "from dotenv import load_dotenv\n",
    "\n",
    "load_dotenv()\n",
    "password = os.getenv(\"MYSQL_ROOT_PASSWORD\")\n",
    "# Connect to MySQL database\n",
    "db_config = {\n",
    "    \"host\": \"localhost\",\n",
    "    \"user\": \"root\",\n",
    "    \"password\": password,\n",
    "    \"database\": \"world\" # default database\n",
    "}\n",
    "\n",
    "try:\n",
    "    conn = mysql.connector.connect(**db_config)\n",
    "    cursor = conn.cursor()\n",
    "    \n",
    "except mysql.connector.Error as e:\n",
    "    print(f\"Error connecting to MySQL database: {e}\")"
   ]
  },
  {
   "cell_type": "code",
   "execution_count": 5,
   "metadata": {},
   "outputs": [
    {
     "data": {
      "text/html": [
       "<div>\n",
       "<style scoped>\n",
       "    .dataframe tbody tr th:only-of-type {\n",
       "        vertical-align: middle;\n",
       "    }\n",
       "\n",
       "    .dataframe tbody tr th {\n",
       "        vertical-align: top;\n",
       "    }\n",
       "\n",
       "    .dataframe thead th {\n",
       "        text-align: right;\n",
       "    }\n",
       "</style>\n",
       "<table border=\"1\" class=\"dataframe\">\n",
       "  <thead>\n",
       "    <tr style=\"text-align: right;\">\n",
       "      <th></th>\n",
       "      <th>work_year</th>\n",
       "      <th>experience_level</th>\n",
       "      <th>employment_type</th>\n",
       "      <th>job_title</th>\n",
       "      <th>salary</th>\n",
       "      <th>salary_currency</th>\n",
       "      <th>salary_in_usd</th>\n",
       "      <th>employee_residence</th>\n",
       "      <th>work_setting</th>\n",
       "      <th>company_location</th>\n",
       "      <th>company_size</th>\n",
       "      <th>job_category</th>\n",
       "    </tr>\n",
       "  </thead>\n",
       "  <tbody>\n",
       "    <tr>\n",
       "      <th>0</th>\n",
       "      <td>2024</td>\n",
       "      <td>Entry-level</td>\n",
       "      <td>Freelance</td>\n",
       "      <td>Applied Data Scientist</td>\n",
       "      <td>30000</td>\n",
       "      <td>USD</td>\n",
       "      <td>30000</td>\n",
       "      <td>United Kingdom</td>\n",
       "      <td>Remote</td>\n",
       "      <td>United Kingdom</td>\n",
       "      <td>M</td>\n",
       "      <td>Data Science and Research</td>\n",
       "    </tr>\n",
       "    <tr>\n",
       "      <th>1</th>\n",
       "      <td>2024</td>\n",
       "      <td>Executive</td>\n",
       "      <td>Full-time</td>\n",
       "      <td>Business Intelligence</td>\n",
       "      <td>230000</td>\n",
       "      <td>USD</td>\n",
       "      <td>230000</td>\n",
       "      <td>United States</td>\n",
       "      <td>In-person</td>\n",
       "      <td>United States</td>\n",
       "      <td>M</td>\n",
       "      <td>BI and Visualization</td>\n",
       "    </tr>\n",
       "    <tr>\n",
       "      <th>2</th>\n",
       "      <td>2024</td>\n",
       "      <td>Executive</td>\n",
       "      <td>Full-time</td>\n",
       "      <td>Business Intelligence</td>\n",
       "      <td>176900</td>\n",
       "      <td>USD</td>\n",
       "      <td>176900</td>\n",
       "      <td>United States</td>\n",
       "      <td>In-person</td>\n",
       "      <td>United States</td>\n",
       "      <td>M</td>\n",
       "      <td>BI and Visualization</td>\n",
       "    </tr>\n",
       "  </tbody>\n",
       "</table>\n",
       "</div>"
      ],
      "text/plain": [
       "   work_year experience_level employment_type               job_title  salary  \\\n",
       "0       2024      Entry-level       Freelance  Applied Data Scientist   30000   \n",
       "1       2024        Executive       Full-time   Business Intelligence  230000   \n",
       "2       2024        Executive       Full-time   Business Intelligence  176900   \n",
       "\n",
       "  salary_currency  salary_in_usd employee_residence work_setting  \\\n",
       "0             USD          30000     United Kingdom       Remote   \n",
       "1             USD         230000      United States    In-person   \n",
       "2             USD         176900      United States    In-person   \n",
       "\n",
       "  company_location company_size               job_category  \n",
       "0   United Kingdom            M  Data Science and Research  \n",
       "1    United States            M       BI and Visualization  \n",
       "2    United States            M       BI and Visualization  "
      ]
     },
     "execution_count": 5,
     "metadata": {},
     "output_type": "execute_result"
    }
   ],
   "source": [
    "# Read CSV file\n",
    "import pandas as pd\n",
    "\n",
    "df = pd.read_csv(\"data/jobs_in_data_2024.csv.zip\", compression=\"zip\")\n",
    "df.head(3)"
   ]
  },
  {
   "cell_type": "code",
   "execution_count": 6,
   "metadata": {},
   "outputs": [
    {
     "data": {
      "text/plain": [
       "Index(['work_year', 'experience_level', 'employment_type', 'job_title',\n",
       "       'salary', 'salary_currency', 'salary_in_usd', 'employee_residence',\n",
       "       'work_setting', 'company_location', 'company_size', 'job_category'],\n",
       "      dtype='object')"
      ]
     },
     "execution_count": 6,
     "metadata": {},
     "output_type": "execute_result"
    }
   ],
   "source": [
    "# Check column names\n",
    "df.columns"
   ]
  },
  {
   "cell_type": "code",
   "execution_count": 7,
   "metadata": {},
   "outputs": [
    {
     "data": {
      "text/plain": [
       "(14199, 12)"
      ]
     },
     "execution_count": 7,
     "metadata": {},
     "output_type": "execute_result"
    }
   ],
   "source": [
    "# Check shape\n",
    "df.shape"
   ]
  },
  {
   "cell_type": "code",
   "execution_count": 8,
   "metadata": {},
   "outputs": [
    {
     "data": {
      "text/plain": [
       "work_year             0\n",
       "experience_level      0\n",
       "employment_type       0\n",
       "job_title             0\n",
       "salary                0\n",
       "salary_currency       0\n",
       "salary_in_usd         0\n",
       "employee_residence    0\n",
       "work_setting          0\n",
       "company_location      0\n",
       "company_size          0\n",
       "job_category          0\n",
       "dtype: int64"
      ]
     },
     "execution_count": 8,
     "metadata": {},
     "output_type": "execute_result"
    }
   ],
   "source": [
    "# Check missing values\n",
    "df.isna().sum()"
   ]
  },
  {
   "cell_type": "code",
   "execution_count": 9,
   "metadata": {},
   "outputs": [
    {
     "name": "stdout",
     "output_type": "stream",
     "text": [
      "<class 'pandas.core.frame.DataFrame'>\n",
      "RangeIndex: 14199 entries, 0 to 14198\n",
      "Data columns (total 12 columns):\n",
      " #   Column              Non-Null Count  Dtype \n",
      "---  ------              --------------  ----- \n",
      " 0   work_year           14199 non-null  int64 \n",
      " 1   experience_level    14199 non-null  object\n",
      " 2   employment_type     14199 non-null  object\n",
      " 3   job_title           14199 non-null  object\n",
      " 4   salary              14199 non-null  int64 \n",
      " 5   salary_currency     14199 non-null  object\n",
      " 6   salary_in_usd       14199 non-null  int64 \n",
      " 7   employee_residence  14199 non-null  object\n",
      " 8   work_setting        14199 non-null  object\n",
      " 9   company_location    14199 non-null  object\n",
      " 10  company_size        14199 non-null  object\n",
      " 11  job_category        14199 non-null  object\n",
      "dtypes: int64(3), object(9)\n",
      "memory usage: 1.3+ MB\n"
     ]
    }
   ],
   "source": [
    "# Check data types\n",
    "df.info()"
   ]
  },
  {
   "cell_type": "code",
   "execution_count": 10,
   "metadata": {},
   "outputs": [
    {
     "name": "stdout",
     "output_type": "stream",
     "text": [
      "Database 'jobs_in_data' created successfully.\n"
     ]
    }
   ],
   "source": [
    "# Create a new database\n",
    "new_database_name = \"jobs_in_data\"\n",
    "create_database_query = f\"CREATE DATABASE IF NOT EXISTS {new_database_name}\"\n",
    "\n",
    "try:\n",
    "    cursor.execute(create_database_query)\n",
    "    print(f\"Database '{new_database_name}' created successfully.\")\n",
    "\n",
    "except mysql.connector.Error as e:\n",
    "    print(f\"Error creating database: {e}\")\n"
   ]
  },
  {
   "cell_type": "code",
   "execution_count": 11,
   "metadata": {},
   "outputs": [],
   "source": [
    "# switch to new database\n",
    "db_config[\"database\"] = new_database_name\n",
    "conn.close()\n",
    "\n",
    "# connect to new database\n",
    "conn = mysql.connector.connect(**db_config)\n",
    "cursor = conn.cursor()"
   ]
  },
  {
   "cell_type": "code",
   "execution_count": 13,
   "metadata": {},
   "outputs": [
    {
     "name": "stdout",
     "output_type": "stream",
     "text": [
      "Table 'Jobs_and_Salaries_in_Data_field_2024' created successfully.\n"
     ]
    }
   ],
   "source": [
    "# Create a table to store the data\n",
    "create_table_query = \"\"\"\n",
    "CREATE TABLE IF NOT EXISTS Jobs_and_Salaries_in_Data_field_2024 (\n",
    "    work_year INT,\n",
    "    experience_level VARCHAR(255),\n",
    "    employment_type VARCHAR(255),\n",
    "    job_title VARCHAR(255),\n",
    "    salary INT,\n",
    "    salary_currency VARCHAR(255),\n",
    "    salary_in_usd INT,\n",
    "    employee_residence VARCHAR(255),\n",
    "    work_setting VARCHAR(255),\n",
    "    company_location VARCHAR(255),\n",
    "    company_size VARCHAR(255),\n",
    "    job_category VARCHAR(255)\n",
    "    \n",
    ")\n",
    "\"\"\"\n",
    "\n",
    "try:\n",
    "    cursor.execute(create_table_query)\n",
    "    print(\"Table 'Jobs_and_Salaries_in_Data_field_2024' created successfully.\")\n",
    "\n",
    "except mysql.connector.Error as e:\n",
    "    print(f\"Error creating table: {e}\")"
   ]
  },
  {
   "cell_type": "code",
   "execution_count": 14,
   "metadata": {},
   "outputs": [
    {
     "name": "stdout",
     "output_type": "stream",
     "text": [
      "Data inserted successfully.\n"
     ]
    }
   ],
   "source": [
    "# Insert data into the table\n",
    "insert_query = \"INSERT INTO Jobs_and_Salaries_in_Data_field_2024 values (%s,%s,%s,%s,%s,%s,%s,%s,%s,%s,%s,%s)\"\n",
    "\n",
    "for index, row in df.iterrows():\n",
    "    cursor.execute(insert_query, tuple(row)) # The `execute()` method of the MySQL cursor expects data to be provided in the form of a tuple.\n",
    "\n",
    "conn.commit()\n",
    "print(\"Data inserted successfully.\")\n",
    "\n",
    "# Close the connection\n",
    "conn.close()"
   ]
  },
  {
   "cell_type": "markdown",
   "metadata": {},
   "source": [
    "### We want to execute SQL queries directly to validate the responses from the AI assistant"
   ]
  },
  {
   "cell_type": "code",
   "execution_count": 6,
   "metadata": {},
   "outputs": [],
   "source": [
    "# Connect to the new database\n",
    "db_config[\"database\"] = \"jobs_in_data\"\n",
    "\n",
    "try:\n",
    "    conn = mysql.connector.connect(**db_config)\n",
    "    cursor = conn.cursor()\n",
    "except mysql.connector.Error as e:\n",
    "    print(f\"Error connecting to MySQL database: {e}\")\n"
   ]
  },
  {
   "cell_type": "markdown",
   "metadata": {},
   "source": [
    "#### 1. Find the average salary for each job category"
   ]
  },
  {
   "cell_type": "code",
   "execution_count": null,
   "metadata": {},
   "outputs": [],
   "source": [
    "%pip install tabulate # library to format the output as a table"
   ]
  },
  {
   "cell_type": "code",
   "execution_count": 7,
   "metadata": {},
   "outputs": [
    {
     "name": "stdout",
     "output_type": "stream",
     "text": [
      "+--------------------------------+------------------+\n",
      "| job_category                   |   average_salary |\n",
      "+================================+==================+\n",
      "| Data Science and Research      |         162092   |\n",
      "+--------------------------------+------------------+\n",
      "| BI and Visualization           |         125778   |\n",
      "+--------------------------------+------------------+\n",
      "| Data Architecture and Modeling |         155835   |\n",
      "+--------------------------------+------------------+\n",
      "| Data Analysis                  |         106053   |\n",
      "+--------------------------------+------------------+\n",
      "| Data Engineering               |         146131   |\n",
      "+--------------------------------+------------------+\n",
      "| Leadership and Management      |         141402   |\n",
      "+--------------------------------+------------------+\n",
      "| Data Quality and Operations    |          95237.8 |\n",
      "+--------------------------------+------------------+\n",
      "| Machine Learning and AI        |         182150   |\n",
      "+--------------------------------+------------------+\n",
      "| Cloud and Database             |         142818   |\n",
      "+--------------------------------+------------------+\n",
      "| Data Management and Strategy   |          92579.6 |\n",
      "+--------------------------------+------------------+\n"
     ]
    }
   ],
   "source": [
    "from tabulate import tabulate\n",
    "\n",
    "# Select data from the table\n",
    "select_query = \"\"\"\n",
    "\n",
    "SELECT job_category, AVG(salary) AS average_salary\n",
    "FROM Jobs_and_Salaries_in_Data_field_2024\n",
    "GROUP BY job_category;\n",
    "\n",
    "\"\"\"\n",
    "\n",
    "try:\n",
    "    cursor.execute(select_query)\n",
    "    # Fetch all rows\n",
    "    rows = cursor.fetchall()\n",
    "    \n",
    "    # print result in table format\n",
    "    print(tabulate(rows, headers=[\"job_category\", \"average_salary\"], tablefmt=\"grid\"))\n",
    "\n",
    "except mysql.connector.Error as e:\n",
    "    print(f\"Error executing query: {e}\")"
   ]
  },
  {
   "cell_type": "markdown",
   "metadata": {},
   "source": [
    "#### 2. Identify the top 5 highest paying job titles"
   ]
  },
  {
   "cell_type": "code",
   "execution_count": 9,
   "metadata": {},
   "outputs": [
    {
     "name": "stdout",
     "output_type": "stream",
     "text": [
      "+------------------------------------+--------------+\n",
      "| job_title                          |   max_salary |\n",
      "+====================================+==============+\n",
      "| Research Engineer                  |       450000 |\n",
      "+------------------------------------+--------------+\n",
      "| Research Scientist                 |       450000 |\n",
      "+------------------------------------+--------------+\n",
      "| Head of Machine Learning           |       448000 |\n",
      "+------------------------------------+--------------+\n",
      "| ML Engineer                        |       440000 |\n",
      "+------------------------------------+--------------+\n",
      "| Applied Machine Learning Scientist |       423000 |\n",
      "+------------------------------------+--------------+\n"
     ]
    }
   ],
   "source": [
    "# Select data from the table\n",
    "select_query = \"\"\"\n",
    "SELECT job_title, MAX(salary) AS max_salary\n",
    "FROM Jobs_and_Salaries_in_Data_field_2024\n",
    "GROUP BY job_title\n",
    "ORDER BY max_salary DESC\n",
    "LIMIT 5;\n",
    "\n",
    "\"\"\"\n",
    "try:\n",
    "    cursor.execute(select_query)\n",
    "    # Fetch all rows\n",
    "    rows = cursor.fetchall()\n",
    "    \n",
    "    # print result in table format\n",
    "    print(tabulate(rows, headers=[\"job_title\", \"max_salary\"], tablefmt=\"grid\"))\n",
    "except mysql.connector.Error as e:\n",
    "    print(f\"Error executing query: {e}\")\n"
   ]
  },
  {
   "cell_type": "markdown",
   "metadata": {},
   "source": [
    "#### 3. Count the number of jobs in each employment type"
   ]
  },
  {
   "cell_type": "code",
   "execution_count": 10,
   "metadata": {},
   "outputs": [
    {
     "name": "stdout",
     "output_type": "stream",
     "text": [
      "+-------------------+-------------+\n",
      "| employment_type   |   job_count |\n",
      "+===================+=============+\n",
      "| Freelance         |          12 |\n",
      "+-------------------+-------------+\n",
      "| Full-time         |       14139 |\n",
      "+-------------------+-------------+\n",
      "| Contract          |          26 |\n",
      "+-------------------+-------------+\n",
      "| Part-time         |          22 |\n",
      "+-------------------+-------------+\n"
     ]
    }
   ],
   "source": [
    "select_query = \"\"\"\n",
    "\n",
    "SELECT employment_type, COUNT(*) AS job_count\n",
    "FROM Jobs_and_Salaries_in_Data_field_2024\n",
    "GROUP BY employment_type;\n",
    "\n",
    "\n",
    "\"\"\"\n",
    "\n",
    "try:\n",
    "    cursor.execute(select_query)\n",
    "    # Fetch all rows\n",
    "    rows = cursor.fetchall()\n",
    "    \n",
    "    # print result in table format\n",
    "    print(tabulate(rows, headers=[\"employment_type\", \"job_count\"], tablefmt=\"grid\"))\n",
    "\n",
    "except mysql.connector.Error as e:\n",
    "    print(f\"Error executing query: {e}\")"
   ]
  },
  {
   "cell_type": "markdown",
   "metadata": {},
   "source": [
    "#### 4. Calculate the average salary for different experience levels"
   ]
  },
  {
   "cell_type": "code",
   "execution_count": 11,
   "metadata": {},
   "outputs": [
    {
     "name": "stdout",
     "output_type": "stream",
     "text": [
      "+--------------------+------------------+\n",
      "| experience_level   |   average_salary |\n",
      "+====================+==================+\n",
      "| Entry-level        |          91714.2 |\n",
      "+--------------------+------------------+\n",
      "| Executive          |         191626   |\n",
      "+--------------------+------------------+\n",
      "| Senior             |         162948   |\n",
      "+--------------------+------------------+\n",
      "| Mid-level          |         122983   |\n",
      "+--------------------+------------------+\n"
     ]
    }
   ],
   "source": [
    "select_query = \"\"\"\n",
    "\n",
    "SELECT experience_level, AVG(salary) AS average_salary\n",
    "FROM Jobs_and_Salaries_in_Data_field_2024\n",
    "GROUP BY experience_level;\n",
    "\n",
    "\n",
    "\"\"\"\n",
    "\n",
    "try:\n",
    "    cursor.execute(select_query)\n",
    "    # Fetch all rows\n",
    "    rows = cursor.fetchall()\n",
    "    \n",
    "    # print result in table format\n",
    "    print(tabulate(rows, headers=[\"experience_level\", \"average_salary\"], tablefmt=\"grid\"))\n",
    "\n",
    "except mysql.connector.Error as e:\n",
    "    print(f\"Error executing query: {e}\")"
   ]
  },
  {
   "cell_type": "markdown",
   "metadata": {},
   "source": [
    "#### 5. Find the five highest paying company locations"
   ]
  },
  {
   "cell_type": "code",
   "execution_count": 13,
   "metadata": {},
   "outputs": [
    {
     "name": "stdout",
     "output_type": "stream",
     "text": [
      "+--------------------+--------------+\n",
      "| company_location   |   max_salary |\n",
      "+====================+==============+\n",
      "| United States      |       450000 |\n",
      "+--------------------+--------------+\n",
      "| Canada             |       409500 |\n",
      "+--------------------+--------------+\n",
      "| Türkiye            |       360000 |\n",
      "+--------------------+--------------+\n",
      "| United Kingdom     |       350000 |\n",
      "+--------------------+--------------+\n",
      "| Australia          |       300000 |\n",
      "+--------------------+--------------+\n"
     ]
    }
   ],
   "source": [
    "select_query = \"\"\"\n",
    "SELECT company_location, MAX(salary) AS max_salary\n",
    "FROM Jobs_and_Salaries_in_Data_field_2024\n",
    "GROUP BY company_location\n",
    "ORDER BY max_salary DESC\n",
    "LIMIT 5;\n",
    "\n",
    "\"\"\"\n",
    "\n",
    "try:\n",
    "    cursor.execute(select_query)\n",
    "    # Fetch all rows\n",
    "    rows = cursor.fetchall()\n",
    "    \n",
    "    # print result in table format\n",
    "    print(tabulate(rows, headers=[\"company_location\", \"max_salary\"], tablefmt=\"grid\"))\n",
    "\n",
    "except mysql.connector.Error as e:\n",
    "    print(f\"Error executing query: {e}\")\n"
   ]
  },
  {
   "cell_type": "markdown",
   "metadata": {},
   "source": [
    "#### 6. Top 10 Highest-Paying Full-Time Senior Positions"
   ]
  },
  {
   "cell_type": "code",
   "execution_count": 14,
   "metadata": {},
   "outputs": [
    {
     "name": "stdout",
     "output_type": "stream",
     "text": [
      "+------------------------------------+------------------+\n",
      "| job_title                          |   average_salary |\n",
      "+====================================+==================+\n",
      "| Deep Learning Engineer             |           295890 |\n",
      "+------------------------------------+------------------+\n",
      "| AI Architect                       |           230348 |\n",
      "+------------------------------------+------------------+\n",
      "| Data Analytics Lead                |           221548 |\n",
      "+------------------------------------+------------------+\n",
      "| Machine Learning Software Engineer |           218655 |\n",
      "+------------------------------------+------------------+\n",
      "| ML Engineer                        |           215841 |\n",
      "+------------------------------------+------------------+\n",
      "| Computer Vision Engineer           |           209017 |\n",
      "+------------------------------------+------------------+\n",
      "| Data Science Manager               |           202197 |\n",
      "+------------------------------------+------------------+\n",
      "| Data Infrastructure Engineer       |           200902 |\n",
      "+------------------------------------+------------------+\n",
      "| Research Scientist                 |           200254 |\n",
      "+------------------------------------+------------------+\n",
      "| Machine Learning Engineer          |           195907 |\n",
      "+------------------------------------+------------------+\n"
     ]
    }
   ],
   "source": [
    "select_query = \"\"\"\n",
    "SELECT job_title, AVG(salary) AS average_salary\n",
    "FROM Jobs_and_Salaries_in_Data_field_2024\n",
    "WHERE experience_level = 'Senior' \n",
    "  AND employment_type = 'Full-time'\n",
    "GROUP BY job_title\n",
    "HAVING COUNT(*) > 5\n",
    "ORDER BY average_salary DESC\n",
    "LIMIT 10;\n",
    "\n",
    "\"\"\"\n",
    "\n",
    "try:  \n",
    "    cursor.execute(select_query)\n",
    "    # Fetch all rows\n",
    "    rows = cursor.fetchall()\n",
    "    \n",
    "    # print result in table format\n",
    "    print(tabulate(rows, headers=[\"job_title\", \"average_salary\"], tablefmt=\"grid\"))\n",
    "\n",
    "except mysql.connector.Error as e:\n",
    "    print(f\"Error executing query: {e}\")"
   ]
  }
 ],
 "metadata": {
  "kernelspec": {
   "display_name": "Python 3",
   "language": "python",
   "name": "python3"
  },
  "language_info": {
   "codemirror_mode": {
    "name": "ipython",
    "version": 3
   },
   "file_extension": ".py",
   "mimetype": "text/x-python",
   "name": "python",
   "nbconvert_exporter": "python",
   "pygments_lexer": "ipython3",
   "version": "3.10.8"
  }
 },
 "nbformat": 4,
 "nbformat_minor": 2
}
